{
 "cells": [
  {
   "cell_type": "code",
   "execution_count": 1,
   "metadata": {},
   "outputs": [],
   "source": [
    "import spacy"
   ]
  },
  {
   "cell_type": "code",
   "execution_count": 2,
   "metadata": {},
   "outputs": [],
   "source": [
    "nlp=spacy.load('en_core_web_sm')"
   ]
  },
  {
   "cell_type": "code",
   "execution_count": 7,
   "metadata": {},
   "outputs": [
    {
     "name": "stdout",
     "output_type": "stream",
     "text": [
      "{'most', 'per', 'before', 'get', 'yet', 'she', 'name', 'to', 'yourselves', 'me', 'otherwise', 'becomes', 'formerly', 'hundred', 'on', 'after', 'its', \"'m\", 'go', 'if', 'two', 'has', \"'ll\", 'across', 'towards', 'did', 'beyond', 'thereupon', '’re', 'hereby', 'between', 'along', 'hereupon', 'ever', 'not', 'toward', 'might', 'herein', \"n't\", 'already', 'was', 'around', 'serious', 'yours', 'whether', 'ten', 'among', 'take', 'ours', 'somehow', 'too', 'beside', 'elsewhere', 'and', 'bottom', 'see', 'few', '‘ve', '’ve', 'then', 'whereas', 'your', 'due', '‘s', 'my', 'seemed', 'he', 'enough', 'several', 'wherever', 'somewhere', 'that', 'front', 'therefore', 'anywhere', 'had', 'make', 'same', 'our', 'where', 'unless', 'an', 'yourself', 'back', 'though', 'used', 'his', 'seem', 'there', 'for', 'below', 'hence', 'more', '’s', 'one', 'three', 'mostly', 'again', 'become', 'part', 'ourselves', 'this', 'must', 'such', 'every', 'six', 'everyone', 'call', \"'s\", 'put', 'the', 'because', 'cannot', 'via', 'much', 'they', 'third', 'until', 'move', 'is', 'anything', 'seeming', 'whose', 'doing', \"'ve\", 'into', 'us', 'about', 'please', 'than', 'someone', 'whenever', 'do', 'eight', 'perhaps', 'latter', 'besides', 'only', 'against', 'else', 'nor', 'really', 'although', 'always', 'i', 'himself', 'fifty', 'alone', 'through', 'should', 'even', 'been', 'with', 'can', 'less', 'what', 'also', '‘re', 'say', 'moreover', 'have', 'throughout', 'hereafter', 're', 'afterwards', 'indeed', 'by', 'anyhow', 'others', 'may', 'once', 'done', 'sometimes', 'any', 'keep', 'everything', 'amount', 'former', 'onto', 'almost', 'how', '‘d', 'made', 'own', 'became', 'still', 'thru', 'you', 'sixty', 'never', 'some', 'often', 'will', 'everywhere', 'we', 'whence', 'well', '’m', 'either', '‘ll', 'other', 'while', 'using', 'would', 'those', 'nevertheless', 'a', 'itself', 'myself', 'thus', 'so', 'last', 'except', 'be', 'could', 'off', 'sometime', 'when', 'whatever', 'noone', 'namely', 'whereby', 'neither', 'various', 'next', 'does', 'ca', 'or', 'anyone', 'now', \"'d\", 'n‘t', 'them', 'at', 'empty', 'here', 'from', 'regarding', 'twelve', 'further', 'many', 'all', 'becoming', 'another', 'first', 'no', 'quite', 'side', 'in', 'full', 'something', '’ll', 'as', 'themselves', 'it', 'thereby', 'wherein', 'eleven', 'forty', 'just', 'none', 'which', 'four', 'whereupon', 'these', 'am', 'whereafter', 'up', 'why', 'their', '‘m', 'n’t', 'whoever', 'under', 'behind', 'seems', 'out', 'nine', 'are', 'thereafter', 'very', 'thence', 'show', \"'re\", 'therein', 'twenty', 'beforehand', 'above', 'top', 'mine', 'together', 'amongst', 'being', 'her', 'least', 'without', 'hers', 'fifteen', 'whither', 'down', 'herself', 'nobody', 'who', 'each', 'nothing', 'within', 'whole', 'nowhere', 'whom', 'anyway', 'give', 'of', 'five', 'during', 'since', 'were', 'however', 'latterly', 'meanwhile', '’d', 'rather', 'over', 'but', 'both', 'upon', 'him'}\n"
     ]
    }
   ],
   "source": [
    "print(nlp.Defaults.stop_words)"
   ]
  },
  {
   "cell_type": "code",
   "execution_count": 8,
   "metadata": {},
   "outputs": [
    {
     "data": {
      "text/plain": [
       "326"
      ]
     },
     "execution_count": 8,
     "metadata": {},
     "output_type": "execute_result"
    }
   ],
   "source": [
    "len(nlp.Defaults.stop_words)"
   ]
  },
  {
   "cell_type": "code",
   "execution_count": 12,
   "metadata": {},
   "outputs": [
    {
     "data": {
      "text/plain": [
       "False"
      ]
     },
     "execution_count": 12,
     "metadata": {},
     "output_type": "execute_result"
    }
   ],
   "source": [
    "nlp.vocab['mystery'].is_stop"
   ]
  },
  {
   "cell_type": "code",
   "execution_count": 13,
   "metadata": {},
   "outputs": [],
   "source": [
    "nlp.Defaults.stop_words.add('btw')"
   ]
  },
  {
   "cell_type": "code",
   "execution_count": 14,
   "metadata": {},
   "outputs": [
    {
     "data": {
      "text/plain": [
       "True"
      ]
     },
     "execution_count": 14,
     "metadata": {},
     "output_type": "execute_result"
    }
   ],
   "source": [
    "nlp.vocab['btw'].is_stop"
   ]
  },
  {
   "cell_type": "code",
   "execution_count": null,
   "metadata": {},
   "outputs": [],
   "source": []
  }
 ],
 "metadata": {
  "kernelspec": {
   "display_name": "Python 3",
   "language": "python",
   "name": "python3"
  },
  "language_info": {
   "codemirror_mode": {
    "name": "ipython",
    "version": 3
   },
   "file_extension": ".py",
   "mimetype": "text/x-python",
   "name": "python",
   "nbconvert_exporter": "python",
   "pygments_lexer": "ipython3",
   "version": "3.8.5"
  }
 },
 "nbformat": 4,
 "nbformat_minor": 4
}
