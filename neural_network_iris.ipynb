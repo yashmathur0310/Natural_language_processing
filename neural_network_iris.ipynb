{
 "cells": [
  {
   "cell_type": "code",
   "execution_count": 1,
   "metadata": {},
   "outputs": [],
   "source": [
    "import numpy as np \n",
    "from sklearn.datasets import load_iris"
   ]
  },
  {
   "cell_type": "code",
   "execution_count": 2,
   "metadata": {},
   "outputs": [],
   "source": [
    "iris=load_iris()"
   ]
  },
  {
   "cell_type": "code",
   "execution_count": 3,
   "metadata": {},
   "outputs": [],
   "source": [
    "x=iris.data\n",
    "y=iris.target"
   ]
  },
  {
   "cell_type": "code",
   "execution_count": 4,
   "metadata": {},
   "outputs": [],
   "source": [
    "# class 0 -->[1,0,0]\n",
    "# class 1 -->[0,1,0]\n",
    "# class 2 -->[0,0,1]"
   ]
  },
  {
   "cell_type": "code",
   "execution_count": 6,
   "metadata": {},
   "outputs": [],
   "source": [
    "from tensorflow import keras\n",
    "from keras.utils import to_categorical"
   ]
  },
  {
   "cell_type": "code",
   "execution_count": 7,
   "metadata": {},
   "outputs": [],
   "source": [
    "y=to_categorical(y)"
   ]
  },
  {
   "cell_type": "code",
   "execution_count": 8,
   "metadata": {},
   "outputs": [
    {
     "data": {
      "text/plain": [
       "(150, 3)"
      ]
     },
     "execution_count": 8,
     "metadata": {},
     "output_type": "execute_result"
    }
   ],
   "source": [
    "y.shape"
   ]
  },
  {
   "cell_type": "code",
   "execution_count": 9,
   "metadata": {},
   "outputs": [],
   "source": [
    "from sklearn.model_selection import train_test_split\n",
    "x_train,x_test,y_train,y_test=train_test_split(x,y,test_size=0.33,random_state=42)"
   ]
  },
  {
   "cell_type": "code",
   "execution_count": 10,
   "metadata": {},
   "outputs": [],
   "source": [
    "from sklearn.preprocessing import MinMaxScaler\n",
    "scaler=MinMaxScaler(feature_range=(0,1))\n",
    "x_train=scaler.fit_transform(x_train)\n",
    "x_test=scaler.transform(x_test)"
   ]
  },
  {
   "cell_type": "code",
   "execution_count": 11,
   "metadata": {},
   "outputs": [],
   "source": [
    "import tensorflow as tf\n",
    "from tensorflow import keras\n",
    "\n",
    "model=keras.models.Sequential([\n",
    "    keras.layers.Dense(8,input_shape=(4,),activation='relu'),\n",
    "    keras.layers.Dense(8,activation='relu'),\n",
    "    keras.layers.Dense(3,activation='softmax')\n",
    "])\n",
    "model.compile(loss='categorical_crossentropy',optimizer='adam',metrics='accuracy')"
   ]
  },
  {
   "cell_type": "code",
   "execution_count": 12,
   "metadata": {},
   "outputs": [
    {
     "name": "stdout",
     "output_type": "stream",
     "text": [
      "Model: \"sequential\"\n",
      "_________________________________________________________________\n",
      "Layer (type)                 Output Shape              Param #   \n",
      "=================================================================\n",
      "dense (Dense)                (None, 8)                 40        \n",
      "_________________________________________________________________\n",
      "dense_1 (Dense)              (None, 8)                 72        \n",
      "_________________________________________________________________\n",
      "dense_2 (Dense)              (None, 3)                 27        \n",
      "=================================================================\n",
      "Total params: 139\n",
      "Trainable params: 139\n",
      "Non-trainable params: 0\n",
      "_________________________________________________________________\n"
     ]
    }
   ],
   "source": [
    "model.summary()"
   ]
  },
  {
   "cell_type": "code",
   "execution_count": 13,
   "metadata": {},
   "outputs": [
    {
     "name": "stdout",
     "output_type": "stream",
     "text": [
      "Epoch 1/150\n",
      "4/4 - 0s - loss: 1.0694 - accuracy: 0.3400\n",
      "Epoch 2/150\n",
      "4/4 - 0s - loss: 1.0589 - accuracy: 0.3400\n",
      "Epoch 3/150\n",
      "4/4 - 0s - loss: 1.0498 - accuracy: 0.3400\n",
      "Epoch 4/150\n",
      "4/4 - 0s - loss: 1.0424 - accuracy: 0.3400\n",
      "Epoch 5/150\n",
      "4/4 - 0s - loss: 1.0344 - accuracy: 0.3400\n",
      "Epoch 6/150\n",
      "4/4 - 0s - loss: 1.0279 - accuracy: 0.3400\n",
      "Epoch 7/150\n",
      "4/4 - 0s - loss: 1.0206 - accuracy: 0.3400\n",
      "Epoch 8/150\n",
      "4/4 - 0s - loss: 1.0136 - accuracy: 0.3400\n",
      "Epoch 9/150\n",
      "4/4 - 0s - loss: 1.0068 - accuracy: 0.3400\n",
      "Epoch 10/150\n",
      "4/4 - 0s - loss: 0.9998 - accuracy: 0.3400\n",
      "Epoch 11/150\n",
      "4/4 - 0s - loss: 0.9926 - accuracy: 0.3400\n",
      "Epoch 12/150\n",
      "4/4 - 0s - loss: 0.9851 - accuracy: 0.3400\n",
      "Epoch 13/150\n",
      "4/4 - 0s - loss: 0.9772 - accuracy: 0.3400\n",
      "Epoch 14/150\n",
      "4/4 - 0s - loss: 0.9697 - accuracy: 0.3400\n",
      "Epoch 15/150\n",
      "4/4 - 0s - loss: 0.9618 - accuracy: 0.3400\n",
      "Epoch 16/150\n",
      "4/4 - 0s - loss: 0.9544 - accuracy: 0.3600\n",
      "Epoch 17/150\n",
      "4/4 - 0s - loss: 0.9480 - accuracy: 0.4200\n",
      "Epoch 18/150\n",
      "4/4 - 0s - loss: 0.9417 - accuracy: 0.4600\n",
      "Epoch 19/150\n",
      "4/4 - 0s - loss: 0.9356 - accuracy: 0.5000\n",
      "Epoch 20/150\n",
      "4/4 - 0s - loss: 0.9302 - accuracy: 0.5100\n",
      "Epoch 21/150\n",
      "4/4 - 0s - loss: 0.9246 - accuracy: 0.5500\n",
      "Epoch 22/150\n",
      "4/4 - 0s - loss: 0.9192 - accuracy: 0.5600\n",
      "Epoch 23/150\n",
      "4/4 - 0s - loss: 0.9139 - accuracy: 0.5900\n",
      "Epoch 24/150\n",
      "4/4 - 0s - loss: 0.9088 - accuracy: 0.6100\n",
      "Epoch 25/150\n",
      "4/4 - 0s - loss: 0.9039 - accuracy: 0.6200\n",
      "Epoch 26/150\n",
      "4/4 - 0s - loss: 0.8992 - accuracy: 0.6300\n",
      "Epoch 27/150\n",
      "4/4 - 0s - loss: 0.8941 - accuracy: 0.6300\n",
      "Epoch 28/150\n",
      "4/4 - 0s - loss: 0.8894 - accuracy: 0.6300\n",
      "Epoch 29/150\n",
      "4/4 - 0s - loss: 0.8843 - accuracy: 0.6400\n",
      "Epoch 30/150\n",
      "4/4 - 0s - loss: 0.8795 - accuracy: 0.6400\n",
      "Epoch 31/150\n",
      "4/4 - 0s - loss: 0.8748 - accuracy: 0.6400\n",
      "Epoch 32/150\n",
      "4/4 - 0s - loss: 0.8698 - accuracy: 0.6400\n",
      "Epoch 33/150\n",
      "4/4 - 0s - loss: 0.8648 - accuracy: 0.6400\n",
      "Epoch 34/150\n",
      "4/4 - 0s - loss: 0.8599 - accuracy: 0.6400\n",
      "Epoch 35/150\n",
      "4/4 - 0s - loss: 0.8554 - accuracy: 0.6400\n",
      "Epoch 36/150\n",
      "4/4 - 0s - loss: 0.8510 - accuracy: 0.6400\n",
      "Epoch 37/150\n",
      "4/4 - 0s - loss: 0.8466 - accuracy: 0.6400\n",
      "Epoch 38/150\n",
      "4/4 - 0s - loss: 0.8422 - accuracy: 0.6400\n",
      "Epoch 39/150\n",
      "4/4 - 0s - loss: 0.8382 - accuracy: 0.6400\n",
      "Epoch 40/150\n",
      "4/4 - 0s - loss: 0.8340 - accuracy: 0.6400\n",
      "Epoch 41/150\n",
      "4/4 - 0s - loss: 0.8299 - accuracy: 0.6500\n",
      "Epoch 42/150\n",
      "4/4 - 0s - loss: 0.8261 - accuracy: 0.6500\n",
      "Epoch 43/150\n",
      "4/4 - 0s - loss: 0.8219 - accuracy: 0.6500\n",
      "Epoch 44/150\n",
      "4/4 - 0s - loss: 0.8182 - accuracy: 0.6500\n",
      "Epoch 45/150\n",
      "4/4 - 0s - loss: 0.8138 - accuracy: 0.6500\n",
      "Epoch 46/150\n",
      "4/4 - 0s - loss: 0.8098 - accuracy: 0.6500\n",
      "Epoch 47/150\n",
      "4/4 - 0s - loss: 0.8062 - accuracy: 0.6500\n",
      "Epoch 48/150\n",
      "4/4 - 0s - loss: 0.8020 - accuracy: 0.6500\n",
      "Epoch 49/150\n",
      "4/4 - 0s - loss: 0.7981 - accuracy: 0.6500\n",
      "Epoch 50/150\n",
      "4/4 - 0s - loss: 0.7945 - accuracy: 0.6500\n",
      "Epoch 51/150\n",
      "4/4 - 0s - loss: 0.7906 - accuracy: 0.6500\n",
      "Epoch 52/150\n",
      "4/4 - 0s - loss: 0.7867 - accuracy: 0.6500\n",
      "Epoch 53/150\n",
      "4/4 - 0s - loss: 0.7832 - accuracy: 0.6500\n",
      "Epoch 54/150\n",
      "4/4 - 0s - loss: 0.7797 - accuracy: 0.6500\n",
      "Epoch 55/150\n",
      "4/4 - 0s - loss: 0.7767 - accuracy: 0.6500\n",
      "Epoch 56/150\n",
      "4/4 - 0s - loss: 0.7731 - accuracy: 0.6500\n",
      "Epoch 57/150\n",
      "4/4 - 0s - loss: 0.7706 - accuracy: 0.6500\n",
      "Epoch 58/150\n",
      "4/4 - 0s - loss: 0.7669 - accuracy: 0.6500\n",
      "Epoch 59/150\n",
      "4/4 - 0s - loss: 0.7625 - accuracy: 0.6500\n",
      "Epoch 60/150\n",
      "4/4 - 0s - loss: 0.7584 - accuracy: 0.6500\n",
      "Epoch 61/150\n",
      "4/4 - 0s - loss: 0.7552 - accuracy: 0.6500\n",
      "Epoch 62/150\n",
      "4/4 - 0s - loss: 0.7515 - accuracy: 0.6500\n",
      "Epoch 63/150\n",
      "4/4 - 0s - loss: 0.7479 - accuracy: 0.6500\n",
      "Epoch 64/150\n",
      "4/4 - 0s - loss: 0.7443 - accuracy: 0.6500\n",
      "Epoch 65/150\n",
      "4/4 - 0s - loss: 0.7411 - accuracy: 0.6800\n",
      "Epoch 66/150\n",
      "4/4 - 0s - loss: 0.7381 - accuracy: 0.6900\n",
      "Epoch 67/150\n",
      "4/4 - 0s - loss: 0.7350 - accuracy: 0.7000\n",
      "Epoch 68/150\n",
      "4/4 - 0s - loss: 0.7313 - accuracy: 0.7000\n",
      "Epoch 69/150\n",
      "4/4 - 0s - loss: 0.7275 - accuracy: 0.7000\n",
      "Epoch 70/150\n",
      "4/4 - 0s - loss: 0.7241 - accuracy: 0.7000\n",
      "Epoch 71/150\n",
      "4/4 - 0s - loss: 0.7201 - accuracy: 0.7000\n",
      "Epoch 72/150\n",
      "4/4 - 0s - loss: 0.7164 - accuracy: 0.7000\n",
      "Epoch 73/150\n",
      "4/4 - 0s - loss: 0.7127 - accuracy: 0.7000\n",
      "Epoch 74/150\n",
      "4/4 - 0s - loss: 0.7093 - accuracy: 0.7000\n",
      "Epoch 75/150\n",
      "4/4 - 0s - loss: 0.7051 - accuracy: 0.7000\n",
      "Epoch 76/150\n",
      "4/4 - 0s - loss: 0.7018 - accuracy: 0.6800\n",
      "Epoch 77/150\n",
      "4/4 - 0s - loss: 0.6985 - accuracy: 0.6800\n",
      "Epoch 78/150\n",
      "4/4 - 0s - loss: 0.6949 - accuracy: 0.6800\n",
      "Epoch 79/150\n",
      "4/4 - 0s - loss: 0.6917 - accuracy: 0.6800\n",
      "Epoch 80/150\n",
      "4/4 - 0s - loss: 0.6879 - accuracy: 0.7000\n",
      "Epoch 81/150\n",
      "4/4 - 0s - loss: 0.6844 - accuracy: 0.7000\n",
      "Epoch 82/150\n",
      "4/4 - 0s - loss: 0.6807 - accuracy: 0.7000\n",
      "Epoch 83/150\n",
      "4/4 - 0s - loss: 0.6771 - accuracy: 0.7100\n",
      "Epoch 84/150\n",
      "4/4 - 0s - loss: 0.6734 - accuracy: 0.7200\n",
      "Epoch 85/150\n",
      "4/4 - 0s - loss: 0.6698 - accuracy: 0.7200\n",
      "Epoch 86/150\n",
      "4/4 - 0s - loss: 0.6656 - accuracy: 0.7000\n",
      "Epoch 87/150\n",
      "4/4 - 0s - loss: 0.6622 - accuracy: 0.7000\n",
      "Epoch 88/150\n",
      "4/4 - 0s - loss: 0.6591 - accuracy: 0.6900\n",
      "Epoch 89/150\n",
      "4/4 - 0s - loss: 0.6554 - accuracy: 0.6900\n",
      "Epoch 90/150\n",
      "4/4 - 0s - loss: 0.6515 - accuracy: 0.6900\n",
      "Epoch 91/150\n",
      "4/4 - 0s - loss: 0.6474 - accuracy: 0.7000\n",
      "Epoch 92/150\n",
      "4/4 - 0s - loss: 0.6434 - accuracy: 0.7100\n",
      "Epoch 93/150\n",
      "4/4 - 0s - loss: 0.6392 - accuracy: 0.7200\n",
      "Epoch 94/150\n",
      "4/4 - 0s - loss: 0.6358 - accuracy: 0.7200\n",
      "Epoch 95/150\n",
      "4/4 - 0s - loss: 0.6311 - accuracy: 0.7200\n",
      "Epoch 96/150\n",
      "4/4 - 0s - loss: 0.6278 - accuracy: 0.7300\n",
      "Epoch 97/150\n",
      "4/4 - 0s - loss: 0.6235 - accuracy: 0.7400\n",
      "Epoch 98/150\n",
      "4/4 - 0s - loss: 0.6199 - accuracy: 0.7300\n",
      "Epoch 99/150\n",
      "4/4 - 0s - loss: 0.6166 - accuracy: 0.7300\n",
      "Epoch 100/150\n",
      "4/4 - 0s - loss: 0.6129 - accuracy: 0.7300\n",
      "Epoch 101/150\n",
      "4/4 - 0s - loss: 0.6092 - accuracy: 0.7300\n",
      "Epoch 102/150\n",
      "4/4 - 0s - loss: 0.6060 - accuracy: 0.7300\n",
      "Epoch 103/150\n",
      "4/4 - 0s - loss: 0.6016 - accuracy: 0.7200\n",
      "Epoch 104/150\n",
      "4/4 - 0s - loss: 0.5991 - accuracy: 0.7200\n",
      "Epoch 105/150\n",
      "4/4 - 0s - loss: 0.5963 - accuracy: 0.7200\n",
      "Epoch 106/150\n",
      "4/4 - 0s - loss: 0.5936 - accuracy: 0.7100\n",
      "Epoch 107/150\n",
      "4/4 - 0s - loss: 0.5903 - accuracy: 0.7100\n",
      "Epoch 108/150\n",
      "4/4 - 0s - loss: 0.5864 - accuracy: 0.7100\n",
      "Epoch 109/150\n",
      "4/4 - 0s - loss: 0.5827 - accuracy: 0.7200\n",
      "Epoch 110/150\n",
      "4/4 - 0s - loss: 0.5783 - accuracy: 0.7200\n",
      "Epoch 111/150\n",
      "4/4 - 0s - loss: 0.5738 - accuracy: 0.7200\n",
      "Epoch 112/150\n",
      "4/4 - 0s - loss: 0.5703 - accuracy: 0.7200\n",
      "Epoch 113/150\n",
      "4/4 - 0s - loss: 0.5666 - accuracy: 0.7200\n",
      "Epoch 114/150\n",
      "4/4 - 0s - loss: 0.5618 - accuracy: 0.7300\n",
      "Epoch 115/150\n",
      "4/4 - 0s - loss: 0.5571 - accuracy: 0.7400\n",
      "Epoch 116/150\n",
      "4/4 - 0s - loss: 0.5535 - accuracy: 0.7700\n",
      "Epoch 117/150\n",
      "4/4 - 0s - loss: 0.5494 - accuracy: 0.7600\n",
      "Epoch 118/150\n",
      "4/4 - 0s - loss: 0.5457 - accuracy: 0.7500\n",
      "Epoch 119/150\n",
      "4/4 - 0s - loss: 0.5426 - accuracy: 0.7400\n",
      "Epoch 120/150\n",
      "4/4 - 0s - loss: 0.5387 - accuracy: 0.7500\n",
      "Epoch 121/150\n",
      "4/4 - 0s - loss: 0.5345 - accuracy: 0.7700\n",
      "Epoch 122/150\n",
      "4/4 - 0s - loss: 0.5310 - accuracy: 0.7900\n",
      "Epoch 123/150\n",
      "4/4 - 0s - loss: 0.5272 - accuracy: 0.8300\n",
      "Epoch 124/150\n",
      "4/4 - 0s - loss: 0.5239 - accuracy: 0.8500\n",
      "Epoch 125/150\n",
      "4/4 - 0s - loss: 0.5206 - accuracy: 0.8700\n",
      "Epoch 126/150\n",
      "4/4 - 0s - loss: 0.5171 - accuracy: 0.8700\n",
      "Epoch 127/150\n",
      "4/4 - 0s - loss: 0.5135 - accuracy: 0.8700\n",
      "Epoch 128/150\n",
      "4/4 - 0s - loss: 0.5099 - accuracy: 0.8700\n",
      "Epoch 129/150\n",
      "4/4 - 0s - loss: 0.5064 - accuracy: 0.8700\n",
      "Epoch 130/150\n",
      "4/4 - 0s - loss: 0.5032 - accuracy: 0.8800\n",
      "Epoch 131/150\n",
      "4/4 - 0s - loss: 0.4998 - accuracy: 0.8800\n",
      "Epoch 132/150\n",
      "4/4 - 0s - loss: 0.4966 - accuracy: 0.9000\n",
      "Epoch 133/150\n",
      "4/4 - 0s - loss: 0.4939 - accuracy: 0.9000\n",
      "Epoch 134/150\n",
      "4/4 - 0s - loss: 0.4906 - accuracy: 0.8900\n",
      "Epoch 135/150\n",
      "4/4 - 0s - loss: 0.4871 - accuracy: 0.8800\n",
      "Epoch 136/150\n",
      "4/4 - 0s - loss: 0.4846 - accuracy: 0.8700\n",
      "Epoch 137/150\n",
      "4/4 - 0s - loss: 0.4812 - accuracy: 0.8600\n",
      "Epoch 138/150\n",
      "4/4 - 0s - loss: 0.4780 - accuracy: 0.8600\n",
      "Epoch 139/150\n",
      "4/4 - 0s - loss: 0.4751 - accuracy: 0.8600\n",
      "Epoch 140/150\n",
      "4/4 - 0s - loss: 0.4718 - accuracy: 0.8700\n",
      "Epoch 141/150\n",
      "4/4 - 0s - loss: 0.4694 - accuracy: 0.8600\n",
      "Epoch 142/150\n",
      "4/4 - 0s - loss: 0.4668 - accuracy: 0.8600\n",
      "Epoch 143/150\n",
      "4/4 - 0s - loss: 0.4638 - accuracy: 0.8600\n",
      "Epoch 144/150\n",
      "4/4 - 0s - loss: 0.4609 - accuracy: 0.8600\n",
      "Epoch 145/150\n",
      "4/4 - 0s - loss: 0.4577 - accuracy: 0.8700\n",
      "Epoch 146/150\n",
      "4/4 - 0s - loss: 0.4549 - accuracy: 0.9000\n"
     ]
    },
    {
     "name": "stdout",
     "output_type": "stream",
     "text": [
      "Epoch 147/150\n",
      "4/4 - 0s - loss: 0.4526 - accuracy: 0.9300\n",
      "Epoch 148/150\n",
      "4/4 - 0s - loss: 0.4498 - accuracy: 0.9300\n",
      "Epoch 149/150\n",
      "4/4 - 0s - loss: 0.4472 - accuracy: 0.9300\n",
      "Epoch 150/150\n",
      "4/4 - 0s - loss: 0.4445 - accuracy: 0.9400\n"
     ]
    },
    {
     "data": {
      "text/plain": [
       "<tensorflow.python.keras.callbacks.History at 0x29d36d7cdf0>"
      ]
     },
     "execution_count": 13,
     "metadata": {},
     "output_type": "execute_result"
    }
   ],
   "source": [
    "model.fit(x_train,y_train,epochs=150,verbose=2)"
   ]
  },
  {
   "cell_type": "code",
   "execution_count": 14,
   "metadata": {},
   "outputs": [
    {
     "name": "stderr",
     "output_type": "stream",
     "text": [
      "C:\\Users\\yashm\\anaconda3\\lib\\site-packages\\tensorflow\\python\\keras\\engine\\sequential.py:455: UserWarning: `model.predict_classes()` is deprecated and will be removed after 2021-01-01. Please use instead:* `np.argmax(model.predict(x), axis=-1)`,   if your model does multi-class classification   (e.g. if it uses a `softmax` last-layer activation).* `(model.predict(x) > 0.5).astype(\"int32\")`,   if your model does binary classification   (e.g. if it uses a `sigmoid` last-layer activation).\n",
      "  warnings.warn('`model.predict_classes()` is deprecated and '\n"
     ]
    }
   ],
   "source": [
    "predictions=model.predict_classes(x_test)"
   ]
  },
  {
   "cell_type": "code",
   "execution_count": 19,
   "metadata": {},
   "outputs": [],
   "source": [
    "y_test=y_test.argmax(axis=1)"
   ]
  },
  {
   "cell_type": "code",
   "execution_count": 20,
   "metadata": {},
   "outputs": [
    {
     "data": {
      "text/plain": [
       "0.9"
      ]
     },
     "execution_count": 20,
     "metadata": {},
     "output_type": "execute_result"
    }
   ],
   "source": [
    "from sklearn.metrics import accuracy_score,confusion_matrix\n",
    "ac=accuracy_score(y_test,predictions)\n",
    "ac"
   ]
  },
  {
   "cell_type": "code",
   "execution_count": 21,
   "metadata": {},
   "outputs": [
    {
     "data": {
      "text/plain": [
       "array([[19,  0,  0],\n",
       "       [ 0, 10,  5],\n",
       "       [ 0,  0, 16]], dtype=int64)"
      ]
     },
     "execution_count": 21,
     "metadata": {},
     "output_type": "execute_result"
    }
   ],
   "source": [
    "cm=confusion_matrix(y_test,predictions)\n",
    "cm"
   ]
  },
  {
   "cell_type": "code",
   "execution_count": null,
   "metadata": {},
   "outputs": [],
   "source": []
  }
 ],
 "metadata": {
  "kernelspec": {
   "display_name": "Python 3",
   "language": "python",
   "name": "python3"
  },
  "language_info": {
   "codemirror_mode": {
    "name": "ipython",
    "version": 3
   },
   "file_extension": ".py",
   "mimetype": "text/x-python",
   "name": "python",
   "nbconvert_exporter": "python",
   "pygments_lexer": "ipython3",
   "version": "3.8.5"
  }
 },
 "nbformat": 4,
 "nbformat_minor": 4
}
